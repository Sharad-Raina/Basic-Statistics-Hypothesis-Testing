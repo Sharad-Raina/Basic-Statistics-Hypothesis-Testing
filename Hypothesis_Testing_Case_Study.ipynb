{
 "cells": [
  {
   "cell_type": "code",
   "execution_count": 1,
   "id": "1c854e98",
   "metadata": {},
   "outputs": [],
   "source": [
    "import numpy as np\n",
    "import pandas as pd\n",
    "\n",
    "\n",
    "import matplotlib.pyplot as plt\n",
    "import seaborn as sns\n",
    "\n",
    "\n",
    "import scipy.stats as stats"
   ]
  },
  {
   "cell_type": "markdown",
   "id": "3b4ba1a3",
   "metadata": {},
   "source": [
    "#                                        Bussiness Problem 1 "
   ]
  },
  {
   "cell_type": "code",
   "execution_count": 2,
   "id": "51973943",
   "metadata": {},
   "outputs": [
    {
     "data": {
      "text/html": [
       "<div>\n",
       "<style scoped>\n",
       "    .dataframe tbody tr th:only-of-type {\n",
       "        vertical-align: middle;\n",
       "    }\n",
       "\n",
       "    .dataframe tbody tr th {\n",
       "        vertical-align: top;\n",
       "    }\n",
       "\n",
       "    .dataframe thead th {\n",
       "        text-align: right;\n",
       "    }\n",
       "</style>\n",
       "<table border=\"1\" class=\"dataframe\">\n",
       "  <thead>\n",
       "    <tr style=\"text-align: right;\">\n",
       "      <th></th>\n",
       "      <th>Amount.Requested</th>\n",
       "      <th>Amount.Funded.By.Investors</th>\n",
       "      <th>Interest.Rate</th>\n",
       "      <th>Loan.Length</th>\n",
       "      <th>Loan.Purpose</th>\n",
       "      <th>Debt.To.Income.Ratio</th>\n",
       "      <th>State</th>\n",
       "      <th>Home.Ownership</th>\n",
       "      <th>Monthly.Income</th>\n",
       "      <th>FICO.Range</th>\n",
       "      <th>Open.CREDIT.Lines</th>\n",
       "      <th>Revolving.CREDIT.Balance</th>\n",
       "      <th>Inquiries.in.the.Last.6.Months</th>\n",
       "      <th>Employment.Length</th>\n",
       "    </tr>\n",
       "  </thead>\n",
       "  <tbody>\n",
       "    <tr>\n",
       "      <th>0</th>\n",
       "      <td>20000.0</td>\n",
       "      <td>20000.0</td>\n",
       "      <td>8.90%</td>\n",
       "      <td>36 months</td>\n",
       "      <td>debt_consolidation</td>\n",
       "      <td>14.90%</td>\n",
       "      <td>SC</td>\n",
       "      <td>MORTGAGE</td>\n",
       "      <td>6541.67</td>\n",
       "      <td>735-739</td>\n",
       "      <td>14.0</td>\n",
       "      <td>14272.0</td>\n",
       "      <td>2.0</td>\n",
       "      <td>&lt; 1 year</td>\n",
       "    </tr>\n",
       "    <tr>\n",
       "      <th>1</th>\n",
       "      <td>19200.0</td>\n",
       "      <td>19200.0</td>\n",
       "      <td>12.12%</td>\n",
       "      <td>36 months</td>\n",
       "      <td>debt_consolidation</td>\n",
       "      <td>28.36%</td>\n",
       "      <td>TX</td>\n",
       "      <td>MORTGAGE</td>\n",
       "      <td>4583.33</td>\n",
       "      <td>715-719</td>\n",
       "      <td>12.0</td>\n",
       "      <td>11140.0</td>\n",
       "      <td>1.0</td>\n",
       "      <td>2 years</td>\n",
       "    </tr>\n",
       "    <tr>\n",
       "      <th>2</th>\n",
       "      <td>35000.0</td>\n",
       "      <td>35000.0</td>\n",
       "      <td>21.98%</td>\n",
       "      <td>60 months</td>\n",
       "      <td>debt_consolidation</td>\n",
       "      <td>23.81%</td>\n",
       "      <td>CA</td>\n",
       "      <td>MORTGAGE</td>\n",
       "      <td>11500.00</td>\n",
       "      <td>690-694</td>\n",
       "      <td>14.0</td>\n",
       "      <td>21977.0</td>\n",
       "      <td>1.0</td>\n",
       "      <td>2 years</td>\n",
       "    </tr>\n",
       "    <tr>\n",
       "      <th>3</th>\n",
       "      <td>10000.0</td>\n",
       "      <td>9975.0</td>\n",
       "      <td>9.99%</td>\n",
       "      <td>36 months</td>\n",
       "      <td>debt_consolidation</td>\n",
       "      <td>14.30%</td>\n",
       "      <td>KS</td>\n",
       "      <td>MORTGAGE</td>\n",
       "      <td>3833.33</td>\n",
       "      <td>695-699</td>\n",
       "      <td>10.0</td>\n",
       "      <td>9346.0</td>\n",
       "      <td>0.0</td>\n",
       "      <td>5 years</td>\n",
       "    </tr>\n",
       "    <tr>\n",
       "      <th>4</th>\n",
       "      <td>12000.0</td>\n",
       "      <td>12000.0</td>\n",
       "      <td>11.71%</td>\n",
       "      <td>36 months</td>\n",
       "      <td>credit_card</td>\n",
       "      <td>18.78%</td>\n",
       "      <td>NJ</td>\n",
       "      <td>RENT</td>\n",
       "      <td>3195.00</td>\n",
       "      <td>695-699</td>\n",
       "      <td>11.0</td>\n",
       "      <td>14469.0</td>\n",
       "      <td>0.0</td>\n",
       "      <td>9 years</td>\n",
       "    </tr>\n",
       "  </tbody>\n",
       "</table>\n",
       "</div>"
      ],
      "text/plain": [
       "   Amount.Requested  Amount.Funded.By.Investors Interest.Rate Loan.Length  \\\n",
       "0           20000.0                     20000.0         8.90%   36 months   \n",
       "1           19200.0                     19200.0        12.12%   36 months   \n",
       "2           35000.0                     35000.0        21.98%   60 months   \n",
       "3           10000.0                      9975.0         9.99%   36 months   \n",
       "4           12000.0                     12000.0        11.71%   36 months   \n",
       "\n",
       "         Loan.Purpose Debt.To.Income.Ratio State Home.Ownership  \\\n",
       "0  debt_consolidation               14.90%    SC       MORTGAGE   \n",
       "1  debt_consolidation               28.36%    TX       MORTGAGE   \n",
       "2  debt_consolidation               23.81%    CA       MORTGAGE   \n",
       "3  debt_consolidation               14.30%    KS       MORTGAGE   \n",
       "4         credit_card               18.78%    NJ           RENT   \n",
       "\n",
       "   Monthly.Income FICO.Range  Open.CREDIT.Lines  Revolving.CREDIT.Balance  \\\n",
       "0         6541.67    735-739               14.0                   14272.0   \n",
       "1         4583.33    715-719               12.0                   11140.0   \n",
       "2        11500.00    690-694               14.0                   21977.0   \n",
       "3         3833.33    695-699               10.0                    9346.0   \n",
       "4         3195.00    695-699               11.0                   14469.0   \n",
       "\n",
       "   Inquiries.in.the.Last.6.Months Employment.Length  \n",
       "0                             2.0          < 1 year  \n",
       "1                             1.0           2 years  \n",
       "2                             1.0           2 years  \n",
       "3                             0.0           5 years  \n",
       "4                             0.0           9 years  "
      ]
     },
     "execution_count": 2,
     "metadata": {},
     "output_type": "execute_result"
    }
   ],
   "source": [
    "loan_data = pd.read_csv(r\"C:\\Users\\ifixthat\\Downloads\\Compressed\\PYTHON\\Python hypothesis testing case study\\4. Basic Statistics - Hypothesis Testing\\LoansData.csv\")\n",
    "loan_data.head(5)"
   ]
  },
  {
   "cell_type": "code",
   "execution_count": 3,
   "id": "91ee15de",
   "metadata": {},
   "outputs": [
    {
     "data": {
      "text/plain": [
       "0              Amount.Requested\n",
       "1    Amount.Funded.By.Investors\n",
       "dtype: object"
      ]
     },
     "execution_count": 3,
     "metadata": {},
     "output_type": "execute_result"
    }
   ],
   "source": [
    "cl =pd.Series(loan_data.columns)\n",
    "cl.head(2)"
   ]
  },
  {
   "cell_type": "code",
   "execution_count": 4,
   "id": "68024520",
   "metadata": {},
   "outputs": [
    {
     "name": "stderr",
     "output_type": "stream",
     "text": [
      "C:\\Users\\ifixthat\\AppData\\Local\\Temp\\ipykernel_2724\\514660276.py:1: FutureWarning: The default value of regex will change from True to False in a future version. In addition, single character regular expressions will *not* be treated as literal strings when regex=True.\n",
      "  clr = cl.str.replace('.','_')\n"
     ]
    }
   ],
   "source": [
    "clr = cl.str.replace('.','_')"
   ]
  },
  {
   "cell_type": "code",
   "execution_count": 5,
   "id": "f9ce67d4",
   "metadata": {},
   "outputs": [],
   "source": [
    "loan_data.columns = clr\n"
   ]
  },
  {
   "cell_type": "code",
   "execution_count": 6,
   "id": "b0d6b430",
   "metadata": {},
   "outputs": [],
   "source": [
    "loan_data.Interest_Rate = loan_data.Interest_Rate.str.replace('%','')"
   ]
  },
  {
   "cell_type": "code",
   "execution_count": 7,
   "id": "112916e1",
   "metadata": {},
   "outputs": [],
   "source": [
    "loan_data.Interest_Rate = loan_data.Interest_Rate.astype('float64')"
   ]
  },
  {
   "cell_type": "markdown",
   "id": "aec012f8",
   "metadata": {},
   "source": [
    "## a. Interest rate is varied for different loan amounts (Less interest charged for high loan amounts)"
   ]
  },
  {
   "cell_type": "markdown",
   "id": "3d2d3340",
   "metadata": {},
   "source": [
    "### Null Hypothesis (H0) :\n",
    "        Less interest is not charged for high loan amounts.\n",
    "        \n",
    "### Alternate Hypothesis(Ha) : \n",
    "        Less interest is charged for high loan amounts.\n",
    "        \n",
    "### CI & p values :\n",
    "        CI =95%\n",
    "        p value = 0.05\n",
    "        \n",
    "        \n",
    "### Perform the test :\n",
    "        correlation"
   ]
  },
  {
   "cell_type": "code",
   "execution_count": 8,
   "id": "6fab7424",
   "metadata": {},
   "outputs": [],
   "source": [
    "loan_data.Amount_Funded_By_Investors = loan_data.Amount_Funded_By_Investors.fillna(loan_data.Amount_Funded_By_Investors.mean())"
   ]
  },
  {
   "cell_type": "code",
   "execution_count": 9,
   "id": "dce4168e",
   "metadata": {},
   "outputs": [],
   "source": [
    "loan_data.Interest_Rate = loan_data.Interest_Rate.fillna(loan_data.Interest_Rate.mean())"
   ]
  },
  {
   "cell_type": "code",
   "execution_count": 10,
   "id": "28345120",
   "metadata": {},
   "outputs": [
    {
     "data": {
      "text/plain": [
       "PearsonRResult(statistic=0.33742660344157105, pvalue=1.2764840056932822e-67)"
      ]
     },
     "execution_count": 10,
     "metadata": {},
     "output_type": "execute_result"
    }
   ],
   "source": [
    "stats.pearsonr(loan_data.Interest_Rate, loan_data.Amount_Funded_By_Investors)"
   ]
  },
  {
   "cell_type": "markdown",
   "id": "708c951a",
   "metadata": {},
   "source": [
    "### Rejection Rules :\n",
    "    \n",
    "    Since new p value is less than original p value. Hence reject Null Hypothesis."
   ]
  },
  {
   "cell_type": "markdown",
   "id": "4ec90266",
   "metadata": {},
   "source": [
    "### Bussiness Conclusion\n",
    "    \n",
    "    Less interest rate may be charged for high loan amounts"
   ]
  },
  {
   "cell_type": "markdown",
   "id": "1806f994",
   "metadata": {},
   "source": [
    "## b. Loan length is directly effecting interest rate."
   ]
  },
  {
   "cell_type": "code",
   "execution_count": 11,
   "id": "d6468f6f",
   "metadata": {},
   "outputs": [],
   "source": [
    "loan_data.Loan_Length =  loan_data.Loan_Length.str.replace('months','')"
   ]
  },
  {
   "cell_type": "markdown",
   "id": "e9a98ce8",
   "metadata": {},
   "source": [
    "### Null Hypothesis:\n",
    "    Loan Length is not directly affecting interest rate.\n",
    "    \n",
    "    \n",
    "### Alternate Hypothesis:\n",
    "    Loan Length is directly affecting interest rate.\n",
    "    \n",
    "    \n",
    "### CI & p values:\n",
    "    CI = 95%\n",
    "    p value = 0.05\n",
    "    \n",
    "    \n",
    "### Perform the test :\n",
    "    F test\n",
    "    "
   ]
  },
  {
   "cell_type": "code",
   "execution_count": 12,
   "id": "ef1e6a5b",
   "metadata": {},
   "outputs": [],
   "source": [
    "l1 = loan_data.loc[loan_data.Loan_Length == '36 ', 'Interest_Rate']\n",
    "l2 = loan_data.loc[loan_data.Loan_Length == '60 ', 'Interest_Rate']"
   ]
  },
  {
   "cell_type": "code",
   "execution_count": 13,
   "id": "4088da6c",
   "metadata": {},
   "outputs": [
    {
     "data": {
      "text/plain": [
       "0        8.90\n",
       "1       12.12\n",
       "3        9.99\n",
       "4       11.71\n",
       "5       15.31\n",
       "        ...  \n",
       "2492    10.08\n",
       "2494    14.65\n",
       "2497    13.99\n",
       "2498    12.42\n",
       "2499    13.79\n",
       "Name: Interest_Rate, Length: 1952, dtype: float64"
      ]
     },
     "execution_count": 13,
     "metadata": {},
     "output_type": "execute_result"
    }
   ],
   "source": [
    "l1 "
   ]
  },
  {
   "cell_type": "code",
   "execution_count": 14,
   "id": "d3c0019c",
   "metadata": {},
   "outputs": [
    {
     "data": {
      "text/plain": [
       "2       21.98\n",
       "7       17.14\n",
       "12      21.67\n",
       "15      15.65\n",
       "17      10.37\n",
       "        ...  \n",
       "2472    22.45\n",
       "2479    15.80\n",
       "2493    23.28\n",
       "2495    16.77\n",
       "2496    14.09\n",
       "Name: Interest_Rate, Length: 548, dtype: float64"
      ]
     },
     "execution_count": 14,
     "metadata": {},
     "output_type": "execute_result"
    }
   ],
   "source": [
    "l2"
   ]
  },
  {
   "cell_type": "code",
   "execution_count": 15,
   "id": "ac56f91e",
   "metadata": {},
   "outputs": [
    {
     "data": {
      "text/plain": [
       "F_onewayResult(statistic=548.0510530961667, pvalue=9.549596064335764e-110)"
      ]
     },
     "execution_count": 15,
     "metadata": {},
     "output_type": "execute_result"
    }
   ],
   "source": [
    "stats.f_oneway(l1,l2)"
   ]
  },
  {
   "cell_type": "markdown",
   "id": "b633b5d0",
   "metadata": {},
   "source": [
    "### Rejection Rule:\n",
    "    Since p value is less than original p value. We reject Null Hypothesis."
   ]
  },
  {
   "cell_type": "markdown",
   "id": "9aadda63",
   "metadata": {},
   "source": [
    "### Bussiness Conclusion :\n",
    "    Loan Length affects Interest Rate"
   ]
  },
  {
   "cell_type": "markdown",
   "id": "4126f209",
   "metadata": {},
   "source": [
    "## c. Interest rate varies for different purpose of loans"
   ]
  },
  {
   "cell_type": "markdown",
   "id": "701bf06d",
   "metadata": {},
   "source": [
    "### Null Hypothesis :\n",
    "    Interest Rate does not vary for different purpose of loans\n",
    "    \n",
    "### Alternate Hypothesis :\n",
    "    Interest Rate varies for different purpose of loans\n",
    "    \n",
    "### CI value & p value :\n",
    "     CI = 95%\n",
    "     p value = 0.05\n",
    "     \n",
    "### Perform the test :\n",
    "     Spearsman Rank"
   ]
  },
  {
   "cell_type": "code",
   "execution_count": 16,
   "id": "7b3e073a",
   "metadata": {},
   "outputs": [
    {
     "data": {
      "text/plain": [
       "SignificanceResult(statistic=-0.06035663579266386, pvalue=0.0025354766301471797)"
      ]
     },
     "execution_count": 16,
     "metadata": {},
     "output_type": "execute_result"
    }
   ],
   "source": [
    "stats.spearmanr(loan_data.Loan_Purpose,loan_data.Interest_Rate)"
   ]
  },
  {
   "cell_type": "markdown",
   "id": "8ed356b3",
   "metadata": {},
   "source": [
    "### Rejection Rule :\n",
    "    Since new p value(0.0025) is less than original p value (0.05) . Hence we reject NULL HYPOTHESIS.\n",
    "    \n",
    "### Bussiness Conclusion :\n",
    "    Interest Rate varies for different purpose of loans."
   ]
  },
  {
   "cell_type": "markdown",
   "id": "8e7f6ad7",
   "metadata": {},
   "source": [
    "## d.There is relationship between FICO scores and Home Ownership. It means that, People with owning home will have high FICO scores."
   ]
  },
  {
   "cell_type": "markdown",
   "id": "d86325db",
   "metadata": {},
   "source": [
    "### Null Hypothesis:\n",
    "     There is no relationship between FICO scores and Home Ownership.\n",
    "     \n",
    "### Alternate Hypothesis :\n",
    "     There is relationship between FICO scores and Home Ownership\n",
    "     \n",
    "### CI & p value :\n",
    "     CI = 95%\n",
    "     p value = 0.05\n",
    "     \n",
    "### Perform the test :\n",
    "     CHI-Squared test\n",
    "        "
   ]
  },
  {
   "cell_type": "code",
   "execution_count": 17,
   "id": "94900866",
   "metadata": {},
   "outputs": [
    {
     "data": {
      "text/html": [
       "<div>\n",
       "<style scoped>\n",
       "    .dataframe tbody tr th:only-of-type {\n",
       "        vertical-align: middle;\n",
       "    }\n",
       "\n",
       "    .dataframe tbody tr th {\n",
       "        vertical-align: top;\n",
       "    }\n",
       "\n",
       "    .dataframe thead th {\n",
       "        text-align: right;\n",
       "    }\n",
       "</style>\n",
       "<table border=\"1\" class=\"dataframe\">\n",
       "  <thead>\n",
       "    <tr style=\"text-align: right;\">\n",
       "      <th>Home_Ownership</th>\n",
       "      <th>MORTGAGE</th>\n",
       "      <th>NONE</th>\n",
       "      <th>OTHER</th>\n",
       "      <th>OWN</th>\n",
       "      <th>RENT</th>\n",
       "    </tr>\n",
       "    <tr>\n",
       "      <th>FICO_Range</th>\n",
       "      <th></th>\n",
       "      <th></th>\n",
       "      <th></th>\n",
       "      <th></th>\n",
       "      <th></th>\n",
       "    </tr>\n",
       "  </thead>\n",
       "  <tbody>\n",
       "    <tr>\n",
       "      <th>640-644</th>\n",
       "      <td>0</td>\n",
       "      <td>0</td>\n",
       "      <td>0</td>\n",
       "      <td>1</td>\n",
       "      <td>4</td>\n",
       "    </tr>\n",
       "    <tr>\n",
       "      <th>645-649</th>\n",
       "      <td>1</td>\n",
       "      <td>0</td>\n",
       "      <td>0</td>\n",
       "      <td>0</td>\n",
       "      <td>2</td>\n",
       "    </tr>\n",
       "  </tbody>\n",
       "</table>\n",
       "</div>"
      ],
      "text/plain": [
       "Home_Ownership  MORTGAGE  NONE  OTHER  OWN  RENT\n",
       "FICO_Range                                      \n",
       "640-644                0     0      0    1     4\n",
       "645-649                1     0      0    0     2"
      ]
     },
     "execution_count": 17,
     "metadata": {},
     "output_type": "execute_result"
    }
   ],
   "source": [
    "ss = pd.crosstab(index = loan_data.FICO_Range ,columns =  loan_data.Home_Ownership)\n",
    "ss.head(2)"
   ]
  },
  {
   "cell_type": "code",
   "execution_count": 18,
   "id": "a142c2c2",
   "metadata": {},
   "outputs": [
    {
     "data": {
      "text/plain": [
       "Chi2ContingencyResult(statistic=473.05246368346025, pvalue=1.2021592010244615e-35, dof=148, expected_freq=array([[2.29475370e+00, 2.00240288e-03, 1.00120144e-02, 4.00480577e-01,\n",
       "        2.29275130e+00],\n",
       "       [1.37685222e+00, 1.20144173e-03, 6.00720865e-03, 2.40288346e-01,\n",
       "        1.37565078e+00],\n",
       "       [4.58950741e-01, 4.00480577e-04, 2.00240288e-03, 8.00961153e-02,\n",
       "        4.58550260e-01],\n",
       "       [1.83580296e+00, 1.60192231e-03, 8.00961153e-03, 3.20384461e-01,\n",
       "        1.83420104e+00],\n",
       "       [5.73688426e+01, 5.00600721e-02, 2.50300360e-01, 1.00120144e+01,\n",
       "        5.73187825e+01],\n",
       "       [6.65478574e+01, 5.80696836e-02, 2.90348418e-01, 1.16139367e+01,\n",
       "        6.64897877e+01],\n",
       "       [7.84805767e+01, 6.84821786e-02, 3.42410893e-01, 1.36964357e+01,\n",
       "        7.84120945e+01],\n",
       "       [7.61858230e+01, 6.64797757e-02, 3.32398879e-01, 1.32959551e+01,\n",
       "        7.61193432e+01],\n",
       "       [7.20552663e+01, 6.28754505e-02, 3.14377253e-01, 1.25750901e+01,\n",
       "        7.19923909e+01],\n",
       "       [6.24173008e+01, 5.44653584e-02, 2.72326792e-01, 1.08930717e+01,\n",
       "        6.23628354e+01],\n",
       "       [6.42531037e+01, 5.60672807e-02, 2.80336404e-01, 1.12134561e+01,\n",
       "        6.41970364e+01],\n",
       "       [7.02194634e+01, 6.12735282e-02, 3.06367641e-01, 1.22547056e+01,\n",
       "        7.01581898e+01],\n",
       "       [6.01225471e+01, 5.24629555e-02, 2.62314778e-01, 1.04925911e+01,\n",
       "        6.00700841e+01],\n",
       "       [6.14993993e+01, 5.36643973e-02, 2.68321986e-01, 1.07328795e+01,\n",
       "        6.14457349e+01],\n",
       "       [5.09435322e+01, 4.44533440e-02, 2.22266720e-01, 8.89066880e+00,\n",
       "        5.08990789e+01],\n",
       "       [4.26824189e+01, 3.72446936e-02, 1.86223468e-01, 7.44893873e+00,\n",
       "        4.26451742e+01],\n",
       "       [5.23203845e+01, 4.56547857e-02, 2.28273929e-01, 9.13095715e+00,\n",
       "        5.22747297e+01],\n",
       "       [4.31413696e+01, 3.76451742e-02, 1.88225871e-01, 7.52903484e+00,\n",
       "        4.31037245e+01],\n",
       "       [4.31413696e+01, 3.76451742e-02, 1.88225871e-01, 7.52903484e+00,\n",
       "        4.31037245e+01],\n",
       "       [2.98317982e+01, 2.60312375e-02, 1.30156187e-01, 5.20624750e+00,\n",
       "        2.98057669e+01],\n",
       "       [2.43243893e+01, 2.12254706e-02, 1.06127353e-01, 4.24509411e+00,\n",
       "        2.43031638e+01],\n",
       "       [2.47833400e+01, 2.16259511e-02, 1.08129756e-01, 4.32519023e+00,\n",
       "        2.47617141e+01],\n",
       "       [2.79959952e+01, 2.44293152e-02, 1.22146576e-01, 4.88586304e+00,\n",
       "        2.79715659e+01],\n",
       "       [2.11117341e+01, 1.84221065e-02, 9.21105326e-02, 3.68442131e+00,\n",
       "        2.10933120e+01],\n",
       "       [2.11117341e+01, 1.84221065e-02, 9.21105326e-02, 3.68442131e+00,\n",
       "        2.10933120e+01],\n",
       "       [1.65222267e+01, 1.44173008e-02, 7.20865038e-02, 2.88346015e+00,\n",
       "        1.65078094e+01],\n",
       "       [7.80216260e+00, 6.80816980e-03, 3.40408490e-02, 1.36163396e+00,\n",
       "        7.79535443e+00],\n",
       "       [1.00969163e+01, 8.81057269e-03, 4.40528634e-02, 1.76211454e+00,\n",
       "        1.00881057e+01],\n",
       "       [1.28506207e+01, 1.12134561e-02, 5.60672807e-02, 2.24269123e+00,\n",
       "        1.28394073e+01],\n",
       "       [8.72006408e+00, 7.60913096e-03, 3.80456548e-02, 1.52182619e+00,\n",
       "        8.71245495e+00],\n",
       "       [9.17901482e+00, 8.00961153e-03, 4.00480577e-02, 1.60192231e+00,\n",
       "        9.17100521e+00],\n",
       "       [5.96635963e+00, 5.20624750e-03, 2.60312375e-02, 1.04124950e+00,\n",
       "        5.96115338e+00],\n",
       "       [5.96635963e+00, 5.20624750e-03, 2.60312375e-02, 1.04124950e+00,\n",
       "        5.96115338e+00],\n",
       "       [5.04845815e+00, 4.40528634e-03, 2.20264317e-02, 8.81057269e-01,\n",
       "        5.04405286e+00],\n",
       "       [3.67160593e+00, 3.20384461e-03, 1.60192231e-02, 6.40768923e-01,\n",
       "        3.66840208e+00],\n",
       "       [2.75370445e+00, 2.40288346e-03, 1.20144173e-02, 4.80576692e-01,\n",
       "        2.75130156e+00],\n",
       "       [4.58950741e-01, 4.00480577e-04, 2.00240288e-03, 8.00961153e-02,\n",
       "        4.58550260e-01],\n",
       "       [4.58950741e-01, 4.00480577e-04, 2.00240288e-03, 8.00961153e-02,\n",
       "        4.58550260e-01]]))"
      ]
     },
     "execution_count": 18,
     "metadata": {},
     "output_type": "execute_result"
    }
   ],
   "source": [
    "stats.chi2_contingency(ss)"
   ]
  },
  {
   "cell_type": "markdown",
   "id": "1c3e8469",
   "metadata": {},
   "source": [
    "### Rejection Rule:\n",
    "    Since new p value is less than original p value. We will reject NULL HYPOTHESIS.\n",
    "    \n",
    "### Bussiness Conclusion:\n",
    "    There is relationship between fico scores and home ownership."
   ]
  },
  {
   "cell_type": "markdown",
   "id": "1c8ce4a1",
   "metadata": {},
   "source": [
    "# Bussiness Problem 2"
   ]
  },
  {
   "cell_type": "markdown",
   "id": "997e8e28",
   "metadata": {},
   "source": [
    "### ***BUSINESS PROBLEM: We would like to assess if there is any difference in the average price quotes provided by Mary and Barry.***\n"
   ]
  },
  {
   "cell_type": "code",
   "execution_count": 19,
   "id": "5d63eb45",
   "metadata": {},
   "outputs": [
    {
     "data": {
      "text/html": [
       "<div>\n",
       "<style scoped>\n",
       "    .dataframe tbody tr th:only-of-type {\n",
       "        vertical-align: middle;\n",
       "    }\n",
       "\n",
       "    .dataframe tbody tr th {\n",
       "        vertical-align: top;\n",
       "    }\n",
       "\n",
       "    .dataframe thead th {\n",
       "        text-align: right;\n",
       "    }\n",
       "</style>\n",
       "<table border=\"1\" class=\"dataframe\">\n",
       "  <thead>\n",
       "    <tr style=\"text-align: right;\">\n",
       "      <th></th>\n",
       "      <th>Order_Number</th>\n",
       "      <th>Barry_Price</th>\n",
       "      <th>Mary_Price</th>\n",
       "    </tr>\n",
       "  </thead>\n",
       "  <tbody>\n",
       "    <tr>\n",
       "      <th>0</th>\n",
       "      <td>1</td>\n",
       "      <td>126</td>\n",
       "      <td>114</td>\n",
       "    </tr>\n",
       "    <tr>\n",
       "      <th>1</th>\n",
       "      <td>2</td>\n",
       "      <td>110</td>\n",
       "      <td>118</td>\n",
       "    </tr>\n",
       "    <tr>\n",
       "      <th>2</th>\n",
       "      <td>3</td>\n",
       "      <td>138</td>\n",
       "      <td>114</td>\n",
       "    </tr>\n",
       "    <tr>\n",
       "      <th>3</th>\n",
       "      <td>4</td>\n",
       "      <td>142</td>\n",
       "      <td>111</td>\n",
       "    </tr>\n",
       "    <tr>\n",
       "      <th>4</th>\n",
       "      <td>5</td>\n",
       "      <td>146</td>\n",
       "      <td>129</td>\n",
       "    </tr>\n",
       "  </tbody>\n",
       "</table>\n",
       "</div>"
      ],
      "text/plain": [
       "   Order_Number  Barry_Price  Mary_Price\n",
       "0             1          126         114\n",
       "1             2          110         118\n",
       "2             3          138         114\n",
       "3             4          142         111\n",
       "4             5          146         129"
      ]
     },
     "execution_count": 19,
     "metadata": {},
     "output_type": "execute_result"
    }
   ],
   "source": [
    "price_quotes = pd.read_csv(r\"C:\\Users\\ifixthat\\Downloads\\Compressed\\PYTHON\\Python hypothesis testing case study\\4. Basic Statistics - Hypothesis Testing\\Price_Quotes.csv\")\n",
    "price_quotes.head(5)"
   ]
  },
  {
   "cell_type": "markdown",
   "id": "009d6ad8",
   "metadata": {},
   "source": [
    "## Null Hypothesis :\n",
    "    There is no difference between price quotes provided by the 2 experts.\n",
    "    \n",
    "## Alternate Hypothesis :\n",
    "    There is a difference between price quotes provided by the 2 experts.\n",
    "    \n",
    "## CI & p values :\n",
    "    CI = 95%\n",
    "    p value = 0.05\n",
    "    \n",
    "## Perform the test :\n",
    "    T test "
   ]
  },
  {
   "cell_type": "code",
   "execution_count": 20,
   "id": "48af8e14",
   "metadata": {},
   "outputs": [
    {
     "data": {
      "text/plain": [
       "Ttest_indResult(statistic=1.4147436739281787, pvalue=0.17114226132118285)"
      ]
     },
     "execution_count": 20,
     "metadata": {},
     "output_type": "execute_result"
    }
   ],
   "source": [
    "\n",
    "stats.ttest_ind(price_quotes.Barry_Price,price_quotes.Mary_Price)"
   ]
  },
  {
   "cell_type": "markdown",
   "id": "ba55dddb",
   "metadata": {},
   "source": [
    "## Rejection Rule :\n",
    "    Since new p value is greater than original p value. Hence we do not reject the Null Hypothesis\n",
    "    \n",
    "## Bussiness Conclusion :\n",
    "    There is no difference in the price quotes provided by 2 experts."
   ]
  },
  {
   "cell_type": "markdown",
   "id": "8c41d549",
   "metadata": {},
   "source": [
    "## BussinessProblem 3"
   ]
  },
  {
   "cell_type": "markdown",
   "id": "6a6d3a53",
   "metadata": {},
   "source": [
    "### ***Determine what effect, if any, the reengineering effort had on the                                                                       incidence behavioral problems and staff turnover. i.e To determine if the reengineering effort                                        changed the critical incidence rate. Isthere evidence that the critical incidence rate                                                 improved?***"
   ]
  },
  {
   "cell_type": "code",
   "execution_count": 21,
   "id": "3f2331e0",
   "metadata": {},
   "outputs": [
    {
     "data": {
      "text/html": [
       "<div>\n",
       "<style scoped>\n",
       "    .dataframe tbody tr th:only-of-type {\n",
       "        vertical-align: middle;\n",
       "    }\n",
       "\n",
       "    .dataframe tbody tr th {\n",
       "        vertical-align: top;\n",
       "    }\n",
       "\n",
       "    .dataframe thead th {\n",
       "        text-align: right;\n",
       "    }\n",
       "</style>\n",
       "<table border=\"1\" class=\"dataframe\">\n",
       "  <thead>\n",
       "    <tr style=\"text-align: right;\">\n",
       "      <th></th>\n",
       "      <th>Month</th>\n",
       "      <th>Reengineer</th>\n",
       "      <th>Employee_Turnover</th>\n",
       "      <th>VAR4</th>\n",
       "      <th>VAR5</th>\n",
       "    </tr>\n",
       "  </thead>\n",
       "  <tbody>\n",
       "    <tr>\n",
       "      <th>0</th>\n",
       "      <td>1</td>\n",
       "      <td>Prior</td>\n",
       "      <td>0.0000</td>\n",
       "      <td>24.390244</td>\n",
       "      <td>42.682927</td>\n",
       "    </tr>\n",
       "    <tr>\n",
       "      <th>1</th>\n",
       "      <td>2</td>\n",
       "      <td>Prior</td>\n",
       "      <td>6.0606</td>\n",
       "      <td>19.354839</td>\n",
       "      <td>25.806452</td>\n",
       "    </tr>\n",
       "    <tr>\n",
       "      <th>2</th>\n",
       "      <td>3</td>\n",
       "      <td>Prior</td>\n",
       "      <td>12.1212</td>\n",
       "      <td>35.087719</td>\n",
       "      <td>146.198830</td>\n",
       "    </tr>\n",
       "    <tr>\n",
       "      <th>3</th>\n",
       "      <td>4</td>\n",
       "      <td>Prior</td>\n",
       "      <td>3.3333</td>\n",
       "      <td>18.404908</td>\n",
       "      <td>110.429448</td>\n",
       "    </tr>\n",
       "    <tr>\n",
       "      <th>4</th>\n",
       "      <td>5</td>\n",
       "      <td>Prior</td>\n",
       "      <td>12.9032</td>\n",
       "      <td>17.964072</td>\n",
       "      <td>23.952096</td>\n",
       "    </tr>\n",
       "  </tbody>\n",
       "</table>\n",
       "</div>"
      ],
      "text/plain": [
       "   Month Reengineer  Employee_Turnover       VAR4        VAR5\n",
       "0      1      Prior             0.0000  24.390244   42.682927\n",
       "1      2      Prior             6.0606  19.354839   25.806452\n",
       "2      3      Prior            12.1212  35.087719  146.198830\n",
       "3      4      Prior             3.3333  18.404908  110.429448\n",
       "4      5      Prior            12.9032  17.964072   23.952096"
      ]
     },
     "execution_count": 21,
     "metadata": {},
     "output_type": "execute_result"
    }
   ],
   "source": [
    "Treatment_Facility = pd.read_csv(r\"C:\\Users\\ifixthat\\Downloads\\Compressed\\PYTHON\\Python hypothesis testing case study\\4. Basic Statistics - Hypothesis Testing\\Treatment_Facility.csv\")\n",
    "Treatment_Facility.head(5)"
   ]
  },
  {
   "cell_type": "code",
   "execution_count": 22,
   "id": "be7df32a",
   "metadata": {},
   "outputs": [],
   "source": [
    "Treatment_Facility.rename(columns = {\"VAR4\":\"TRFF%\" , \"VAR5\":\"CI%\"} , inplace = True)"
   ]
  },
  {
   "cell_type": "markdown",
   "id": "59a06f7c",
   "metadata": {},
   "source": [
    "### Null Hypothesis :\n",
    "     The CI rate showed no improvement because of  the reengineering effort.\n",
    "     \n",
    "### Alternate Hypothesis :\n",
    "    The CI rate showed improvement because of  the reengineering effort.\n",
    "    \n",
    "## CI & p value :\n",
    "    CI = 95%\n",
    "    p value = 0.05\n",
    "    \n",
    "## Perform the test :\n",
    "    F test\n",
    "    "
   ]
  },
  {
   "cell_type": "code",
   "execution_count": 23,
   "id": "e23ac65d",
   "metadata": {},
   "outputs": [],
   "source": [
    "prior = Treatment_Facility.loc[Treatment_Facility.Reengineer == 'Prior' , 'Employee_Turnover']"
   ]
  },
  {
   "cell_type": "code",
   "execution_count": 24,
   "id": "98aa88ac",
   "metadata": {},
   "outputs": [],
   "source": [
    "post = Treatment_Facility.loc[Treatment_Facility.Reengineer == 'Post' , 'Employee_Turnover']"
   ]
  },
  {
   "cell_type": "code",
   "execution_count": 25,
   "id": "6afbc1a4",
   "metadata": {},
   "outputs": [
    {
     "data": {
      "text/plain": [
       "F_onewayResult(statistic=3.133985828895568, pvalue=0.09361109345535291)"
      ]
     },
     "execution_count": 25,
     "metadata": {},
     "output_type": "execute_result"
    }
   ],
   "source": [
    "stats.f_oneway(prior,post)"
   ]
  },
  {
   "cell_type": "markdown",
   "id": "0777d9cf",
   "metadata": {},
   "source": [
    "### Rejection Rule :\n",
    "    Since new p value is higher than assumed p value. \n",
    "    We do not reject the Null Hypothesis.\n",
    "    \n",
    "### Bussiness Conclusion :\n",
    "    The reengineering effort didnot lead to any improvement in the CI rate"
   ]
  },
  {
   "cell_type": "markdown",
   "id": "66627dc0",
   "metadata": {},
   "source": [
    "## BUSINESS PROBLEM-4"
   ]
  },
  {
   "cell_type": "code",
   "execution_count": 26,
   "id": "fdc46e53",
   "metadata": {},
   "outputs": [
    {
     "data": {
      "text/html": [
       "<div>\n",
       "<style scoped>\n",
       "    .dataframe tbody tr th:only-of-type {\n",
       "        vertical-align: middle;\n",
       "    }\n",
       "\n",
       "    .dataframe tbody tr th {\n",
       "        vertical-align: top;\n",
       "    }\n",
       "\n",
       "    .dataframe thead th {\n",
       "        text-align: right;\n",
       "    }\n",
       "</style>\n",
       "<table border=\"1\" class=\"dataframe\">\n",
       "  <thead>\n",
       "    <tr style=\"text-align: right;\">\n",
       "      <th></th>\n",
       "      <th>Days</th>\n",
       "      <th>Priority</th>\n",
       "    </tr>\n",
       "  </thead>\n",
       "  <tbody>\n",
       "    <tr>\n",
       "      <th>0</th>\n",
       "      <td>3.3</td>\n",
       "      <td>High</td>\n",
       "    </tr>\n",
       "    <tr>\n",
       "      <th>1</th>\n",
       "      <td>7.9</td>\n",
       "      <td>Medium</td>\n",
       "    </tr>\n",
       "    <tr>\n",
       "      <th>2</th>\n",
       "      <td>0.3</td>\n",
       "      <td>High</td>\n",
       "    </tr>\n",
       "    <tr>\n",
       "      <th>3</th>\n",
       "      <td>0.7</td>\n",
       "      <td>Medium</td>\n",
       "    </tr>\n",
       "    <tr>\n",
       "      <th>4</th>\n",
       "      <td>8.6</td>\n",
       "      <td>Medium</td>\n",
       "    </tr>\n",
       "    <tr>\n",
       "      <th>...</th>\n",
       "      <td>...</td>\n",
       "      <td>...</td>\n",
       "    </tr>\n",
       "    <tr>\n",
       "      <th>637</th>\n",
       "      <td>2.5</td>\n",
       "      <td>Low</td>\n",
       "    </tr>\n",
       "    <tr>\n",
       "      <th>638</th>\n",
       "      <td>0.3</td>\n",
       "      <td>High</td>\n",
       "    </tr>\n",
       "    <tr>\n",
       "      <th>639</th>\n",
       "      <td>0.3</td>\n",
       "      <td>Medium</td>\n",
       "    </tr>\n",
       "    <tr>\n",
       "      <th>640</th>\n",
       "      <td>1.3</td>\n",
       "      <td>Medium</td>\n",
       "    </tr>\n",
       "    <tr>\n",
       "      <th>641</th>\n",
       "      <td>0.5</td>\n",
       "      <td>High</td>\n",
       "    </tr>\n",
       "  </tbody>\n",
       "</table>\n",
       "<p>642 rows × 2 columns</p>\n",
       "</div>"
      ],
      "text/plain": [
       "     Days Priority\n",
       "0     3.3     High\n",
       "1     7.9   Medium\n",
       "2     0.3     High\n",
       "3     0.7   Medium\n",
       "4     8.6   Medium\n",
       "..    ...      ...\n",
       "637   2.5      Low\n",
       "638   0.3     High\n",
       "639   0.3   Medium\n",
       "640   1.3   Medium\n",
       "641   0.5     High\n",
       "\n",
       "[642 rows x 2 columns]"
      ]
     },
     "execution_count": 26,
     "metadata": {},
     "output_type": "execute_result"
    }
   ],
   "source": [
    "Priority_Assessment = pd.read_csv(r\"C:\\Users\\ifixthat\\Downloads\\Compressed\\PYTHON\\Python hypothesis testing case study\\4. Basic Statistics - Hypothesis Testing\\Priority_Assessment.csv\")\n",
    "Priority_Assessment"
   ]
  },
  {
   "cell_type": "markdown",
   "id": "56ee7426",
   "metadata": {},
   "source": [
    "### Null Hypothesis :\n",
    "    The prioritization system is not working.\n",
    "    \n",
    "### Alternate Hypothesis :\n",
    "    The prioritization system is working.\n",
    "    \n",
    "### CI & p value :\n",
    "    CI = 95%\n",
    "    p value = 0.05\n",
    "    \n",
    "### Perform the test :\n",
    "    F test\n",
    "    "
   ]
  },
  {
   "cell_type": "code",
   "execution_count": 27,
   "id": "5a66d23d",
   "metadata": {},
   "outputs": [],
   "source": [
    "High = Priority_Assessment.loc[Priority_Assessment.Priority == 'High' , 'Days']\n"
   ]
  },
  {
   "cell_type": "code",
   "execution_count": 28,
   "id": "e75669c7",
   "metadata": {},
   "outputs": [],
   "source": [
    "Medium = Priority_Assessment.loc[Priority_Assessment.Priority == 'Medium' , 'Days']"
   ]
  },
  {
   "cell_type": "code",
   "execution_count": 29,
   "id": "7198fffe",
   "metadata": {},
   "outputs": [],
   "source": [
    "Low = Priority_Assessment.loc[Priority_Assessment.Priority == 'Low' , 'Days']"
   ]
  },
  {
   "cell_type": "code",
   "execution_count": 30,
   "id": "06a2a18f",
   "metadata": {},
   "outputs": [
    {
     "data": {
      "text/plain": [
       "F_onewayResult(statistic=1.812311010076072, pvalue=0.16411459461716182)"
      ]
     },
     "execution_count": 30,
     "metadata": {},
     "output_type": "execute_result"
    }
   ],
   "source": [
    "stats.f_oneway(High,Medium,Low)"
   ]
  },
  {
   "cell_type": "markdown",
   "id": "c9bc71b0",
   "metadata": {},
   "source": [
    "### Rejection Rule :\n",
    "    Since new p value is greater than original p value.\n",
    "    Hence we do not reject the Null Hypothesis\n",
    "    \n",
    "### Bussiness Conclusion :\n",
    "    The priortization system is not working"
   ]
  },
  {
   "cell_type": "markdown",
   "id": "0cf5e8d4",
   "metadata": {},
   "source": [
    "## BUSINESS PROBLEM-5"
   ]
  },
  {
   "cell_type": "code",
   "execution_count": 31,
   "id": "fb7ed862",
   "metadata": {},
   "outputs": [
    {
     "data": {
      "text/html": [
       "<div>\n",
       "<style scoped>\n",
       "    .dataframe tbody tr th:only-of-type {\n",
       "        vertical-align: middle;\n",
       "    }\n",
       "\n",
       "    .dataframe tbody tr th {\n",
       "        vertical-align: top;\n",
       "    }\n",
       "\n",
       "    .dataframe thead th {\n",
       "        text-align: right;\n",
       "    }\n",
       "</style>\n",
       "<table border=\"1\" class=\"dataframe\">\n",
       "  <thead>\n",
       "    <tr style=\"text-align: right;\">\n",
       "      <th></th>\n",
       "      <th>_rowstate_</th>\n",
       "      <th>Movie</th>\n",
       "      <th>Gender</th>\n",
       "      <th>Marital_Status</th>\n",
       "      <th>Sinage</th>\n",
       "      <th>Parking</th>\n",
       "      <th>Clean</th>\n",
       "      <th>Overall</th>\n",
       "      <th>Age</th>\n",
       "      <th>Income</th>\n",
       "      <th>Hear_About</th>\n",
       "    </tr>\n",
       "  </thead>\n",
       "  <tbody>\n",
       "    <tr>\n",
       "      <th>0</th>\n",
       "      <td>0</td>\n",
       "      <td>Ferris Buellers Day Off</td>\n",
       "      <td>Female</td>\n",
       "      <td>Married</td>\n",
       "      <td>2.0</td>\n",
       "      <td>2.0</td>\n",
       "      <td>2.0</td>\n",
       "      <td>2.0</td>\n",
       "      <td>3.0</td>\n",
       "      <td>1.0</td>\n",
       "      <td>5</td>\n",
       "    </tr>\n",
       "    <tr>\n",
       "      <th>1</th>\n",
       "      <td>0</td>\n",
       "      <td>Ferris Buellers Day Off</td>\n",
       "      <td>Female</td>\n",
       "      <td>Single</td>\n",
       "      <td>1.0</td>\n",
       "      <td>1.0</td>\n",
       "      <td>1.0</td>\n",
       "      <td>1.0</td>\n",
       "      <td>2.0</td>\n",
       "      <td>1.0</td>\n",
       "      <td>5</td>\n",
       "    </tr>\n",
       "  </tbody>\n",
       "</table>\n",
       "</div>"
      ],
      "text/plain": [
       "   _rowstate_                    Movie  Gender Marital_Status  Sinage  \\\n",
       "0           0  Ferris Buellers Day Off  Female        Married     2.0   \n",
       "1           0  Ferris Buellers Day Off  Female         Single     1.0   \n",
       "\n",
       "   Parking  Clean  Overall  Age  Income Hear_About  \n",
       "0      2.0    2.0      2.0  3.0     1.0          5  \n",
       "1      1.0    1.0      1.0  2.0     1.0          5  "
      ]
     },
     "execution_count": 31,
     "metadata": {},
     "output_type": "execute_result"
    }
   ],
   "source": [
    "Films = pd.read_csv(r\"C:\\Users\\ifixthat\\Downloads\\Compressed\\PYTHON\\Python hypothesis testing case study\\4. Basic Statistics - Hypothesis Testing\\Films.csv\")\n",
    "Films.head(2)"
   ]
  },
  {
   "cell_type": "code",
   "execution_count": 32,
   "id": "9f15703f",
   "metadata": {},
   "outputs": [],
   "source": [
    "# Dropping missing values..\n",
    "Films.dropna(inplace = True)"
   ]
  },
  {
   "cell_type": "markdown",
   "id": "61b06d29",
   "metadata": {},
   "source": [
    "### Correcting DATA -- "
   ]
  },
  {
   "cell_type": "markdown",
   "id": "73f7809b",
   "metadata": {},
   "source": [
    "### Gender"
   ]
  },
  {
   "cell_type": "code",
   "execution_count": 33,
   "id": "d732dc91",
   "metadata": {},
   "outputs": [],
   "source": [
    "Films['Gender'] = np.where(Films.Gender == '1' ,'Male', Films.Gender)"
   ]
  },
  {
   "cell_type": "code",
   "execution_count": 34,
   "id": "68bc3a78",
   "metadata": {},
   "outputs": [],
   "source": [
    "Films['Gender'] = np.where(Films.Gender == '2' ,'Female', Films.Gender)"
   ]
  },
  {
   "cell_type": "markdown",
   "id": "57bfbd4a",
   "metadata": {},
   "source": [
    "### Marital Status"
   ]
  },
  {
   "cell_type": "code",
   "execution_count": 35,
   "id": "74dec759",
   "metadata": {},
   "outputs": [],
   "source": [
    "Films['Marital_Status'] = np.where(Films.Marital_Status == '1' , 'Married', Films.Marital_Status)"
   ]
  },
  {
   "cell_type": "code",
   "execution_count": 36,
   "id": "dabb16fc",
   "metadata": {},
   "outputs": [],
   "source": [
    "Films['Marital_Status'] = np.where(Films.Marital_Status == '2' , 'Single', Films.Marital_Status)"
   ]
  },
  {
   "cell_type": "markdown",
   "id": "59540097",
   "metadata": {},
   "source": [
    "### Age"
   ]
  },
  {
   "cell_type": "code",
   "execution_count": 37,
   "id": "d122f862",
   "metadata": {},
   "outputs": [
    {
     "name": "stderr",
     "output_type": "stream",
     "text": [
      "C:\\Users\\ifixthat\\AppData\\Local\\Temp\\ipykernel_2724\\3596297530.py:2: SettingWithCopyWarning: \n",
      "A value is trying to be set on a copy of a slice from a DataFrame.\n",
      "Try using .loc[row_indexer,col_indexer] = value instead\n",
      "\n",
      "See the caveats in the documentation: https://pandas.pydata.org/pandas-docs/stable/user_guide/indexing.html#returning-a-view-versus-a-copy\n",
      "  ind.Age = '1-12'\n"
     ]
    }
   ],
   "source": [
    "ind = Films.iloc[np.where(Films.Age == 1.0) ]\n",
    "ind.Age = '1-12'"
   ]
  },
  {
   "cell_type": "code",
   "execution_count": 38,
   "id": "0d79f208",
   "metadata": {},
   "outputs": [],
   "source": [
    "Films[Films.Age == 1.0] = ind"
   ]
  },
  {
   "cell_type": "code",
   "execution_count": 39,
   "id": "4e6a44db",
   "metadata": {},
   "outputs": [
    {
     "name": "stderr",
     "output_type": "stream",
     "text": [
      "C:\\Users\\ifixthat\\AppData\\Local\\Temp\\ipykernel_2724\\793683370.py:2: SettingWithCopyWarning: \n",
      "A value is trying to be set on a copy of a slice from a DataFrame.\n",
      "Try using .loc[row_indexer,col_indexer] = value instead\n",
      "\n",
      "See the caveats in the documentation: https://pandas.pydata.org/pandas-docs/stable/user_guide/indexing.html#returning-a-view-versus-a-copy\n",
      "  ind.Age = '13-30'\n"
     ]
    }
   ],
   "source": [
    "ind = Films.iloc[np.where(Films.Age == 2.0) ]\n",
    "ind.Age = '13-30'"
   ]
  },
  {
   "cell_type": "code",
   "execution_count": 40,
   "id": "3f427bfb",
   "metadata": {},
   "outputs": [],
   "source": [
    "Films[Films.Age == 2.0] = ind"
   ]
  },
  {
   "cell_type": "code",
   "execution_count": 41,
   "id": "89bbbd4c",
   "metadata": {},
   "outputs": [
    {
     "name": "stderr",
     "output_type": "stream",
     "text": [
      "C:\\Users\\ifixthat\\AppData\\Local\\Temp\\ipykernel_2724\\2140622687.py:2: SettingWithCopyWarning: \n",
      "A value is trying to be set on a copy of a slice from a DataFrame.\n",
      "Try using .loc[row_indexer,col_indexer] = value instead\n",
      "\n",
      "See the caveats in the documentation: https://pandas.pydata.org/pandas-docs/stable/user_guide/indexing.html#returning-a-view-versus-a-copy\n",
      "  ind.Age = '31-60'\n"
     ]
    }
   ],
   "source": [
    "ind = Films.iloc[np.where(Films.Age == 3.0) ]\n",
    "ind.Age = '31-60'"
   ]
  },
  {
   "cell_type": "code",
   "execution_count": 42,
   "id": "1a3594bd",
   "metadata": {},
   "outputs": [],
   "source": [
    "Films[Films.Age == 3.0] = ind"
   ]
  },
  {
   "cell_type": "code",
   "execution_count": 43,
   "id": "1569db47",
   "metadata": {},
   "outputs": [
    {
     "name": "stderr",
     "output_type": "stream",
     "text": [
      "C:\\Users\\ifixthat\\AppData\\Local\\Temp\\ipykernel_2724\\3283843221.py:2: SettingWithCopyWarning: \n",
      "A value is trying to be set on a copy of a slice from a DataFrame.\n",
      "Try using .loc[row_indexer,col_indexer] = value instead\n",
      "\n",
      "See the caveats in the documentation: https://pandas.pydata.org/pandas-docs/stable/user_guide/indexing.html#returning-a-view-versus-a-copy\n",
      "  ind.Age = '60+'\n"
     ]
    }
   ],
   "source": [
    "ind = Films.iloc[np.where(Films.Age == 4.0) ]\n",
    "ind.Age = '60+'"
   ]
  },
  {
   "cell_type": "code",
   "execution_count": 44,
   "id": "17c81c9d",
   "metadata": {},
   "outputs": [],
   "source": [
    "Films[Films.Age == 4.0] = ind"
   ]
  },
  {
   "cell_type": "markdown",
   "id": "74f30cc6",
   "metadata": {},
   "source": [
    "### Income"
   ]
  },
  {
   "cell_type": "code",
   "execution_count": 45,
   "id": "53a8beb9",
   "metadata": {},
   "outputs": [
    {
     "name": "stderr",
     "output_type": "stream",
     "text": [
      "C:\\Users\\ifixthat\\AppData\\Local\\Temp\\ipykernel_2724\\1864149999.py:2: SettingWithCopyWarning: \n",
      "A value is trying to be set on a copy of a slice from a DataFrame.\n",
      "Try using .loc[row_indexer,col_indexer] = value instead\n",
      "\n",
      "See the caveats in the documentation: https://pandas.pydata.org/pandas-docs/stable/user_guide/indexing.html#returning-a-view-versus-a-copy\n",
      "  ind1.Income = 'Less than $50,000'\n"
     ]
    }
   ],
   "source": [
    "ind1 = Films.iloc[np.where(Films.Income == 1.0) ]\n",
    "ind1.Income = 'Less than $50,000'"
   ]
  },
  {
   "cell_type": "code",
   "execution_count": 46,
   "id": "d6452911",
   "metadata": {},
   "outputs": [],
   "source": [
    "Films[Films.Income == 1.0] = ind1"
   ]
  },
  {
   "cell_type": "code",
   "execution_count": 47,
   "id": "292f6174",
   "metadata": {},
   "outputs": [
    {
     "name": "stderr",
     "output_type": "stream",
     "text": [
      "C:\\Users\\ifixthat\\AppData\\Local\\Temp\\ipykernel_2724\\3190598152.py:2: SettingWithCopyWarning: \n",
      "A value is trying to be set on a copy of a slice from a DataFrame.\n",
      "Try using .loc[row_indexer,col_indexer] = value instead\n",
      "\n",
      "See the caveats in the documentation: https://pandas.pydata.org/pandas-docs/stable/user_guide/indexing.html#returning-a-view-versus-a-copy\n",
      "  ind1.Income =  '$50 - $100,000'\n"
     ]
    }
   ],
   "source": [
    "ind1 = Films.iloc[np.where(Films.Income == 2.0) ]\n",
    "ind1.Income =  '$50 - $100,000'"
   ]
  },
  {
   "cell_type": "code",
   "execution_count": 48,
   "id": "a66a472b",
   "metadata": {},
   "outputs": [],
   "source": [
    "Films[Films.Income == 2.0] = ind1"
   ]
  },
  {
   "cell_type": "code",
   "execution_count": 49,
   "id": "d71eb2fe",
   "metadata": {},
   "outputs": [
    {
     "name": "stderr",
     "output_type": "stream",
     "text": [
      "C:\\Users\\ifixthat\\AppData\\Local\\Temp\\ipykernel_2724\\3957611640.py:2: SettingWithCopyWarning: \n",
      "A value is trying to be set on a copy of a slice from a DataFrame.\n",
      "Try using .loc[row_indexer,col_indexer] = value instead\n",
      "\n",
      "See the caveats in the documentation: https://pandas.pydata.org/pandas-docs/stable/user_guide/indexing.html#returning-a-view-versus-a-copy\n",
      "  ind1.Income =  '$100,000+'\n"
     ]
    }
   ],
   "source": [
    "ind1 = Films.iloc[np.where(Films.Income == 3.0) ]\n",
    "ind1.Income =  '$100,000+'"
   ]
  },
  {
   "cell_type": "code",
   "execution_count": 50,
   "id": "4638aae8",
   "metadata": {},
   "outputs": [],
   "source": [
    "Films[Films.Income == 3.0] = ind1"
   ]
  },
  {
   "cell_type": "markdown",
   "id": "366991b4",
   "metadata": {},
   "source": [
    "### Hear about"
   ]
  },
  {
   "cell_type": "code",
   "execution_count": 51,
   "id": "bc8d0e03",
   "metadata": {},
   "outputs": [
    {
     "name": "stderr",
     "output_type": "stream",
     "text": [
      "C:\\Users\\ifixthat\\AppData\\Local\\Temp\\ipykernel_2724\\1236688660.py:2: SettingWithCopyWarning: \n",
      "A value is trying to be set on a copy of a slice from a DataFrame.\n",
      "Try using .loc[row_indexer,col_indexer] = value instead\n",
      "\n",
      "See the caveats in the documentation: https://pandas.pydata.org/pandas-docs/stable/user_guide/indexing.html#returning-a-view-versus-a-copy\n",
      "  ind2.Hear_About =  'television'\n"
     ]
    }
   ],
   "source": [
    "ind2 = Films.iloc[np.where(Films.Hear_About == '1') ]\n",
    "ind2.Hear_About =  'television'"
   ]
  },
  {
   "cell_type": "code",
   "execution_count": 52,
   "id": "f7f90ee1",
   "metadata": {},
   "outputs": [],
   "source": [
    "Films[Films.Hear_About == '1'] = ind2"
   ]
  },
  {
   "cell_type": "code",
   "execution_count": 53,
   "id": "128dc6af",
   "metadata": {},
   "outputs": [
    {
     "name": "stderr",
     "output_type": "stream",
     "text": [
      "C:\\Users\\ifixthat\\AppData\\Local\\Temp\\ipykernel_2724\\2097947669.py:2: SettingWithCopyWarning: \n",
      "A value is trying to be set on a copy of a slice from a DataFrame.\n",
      "Try using .loc[row_indexer,col_indexer] = value instead\n",
      "\n",
      "See the caveats in the documentation: https://pandas.pydata.org/pandas-docs/stable/user_guide/indexing.html#returning-a-view-versus-a-copy\n",
      "  ind2.Hear_About =  'newspaper'\n"
     ]
    }
   ],
   "source": [
    "ind2 = Films.iloc[np.where(Films.Hear_About == '2') ]\n",
    "ind2.Hear_About =  'newspaper'"
   ]
  },
  {
   "cell_type": "code",
   "execution_count": 54,
   "id": "c4962f81",
   "metadata": {},
   "outputs": [],
   "source": [
    "Films[Films.Hear_About == '2'] = ind2"
   ]
  },
  {
   "cell_type": "code",
   "execution_count": 55,
   "id": "6a29a3bc",
   "metadata": {},
   "outputs": [
    {
     "name": "stderr",
     "output_type": "stream",
     "text": [
      "C:\\Users\\ifixthat\\AppData\\Local\\Temp\\ipykernel_2724\\156978711.py:2: SettingWithCopyWarning: \n",
      "A value is trying to be set on a copy of a slice from a DataFrame.\n",
      "Try using .loc[row_indexer,col_indexer] = value instead\n",
      "\n",
      "See the caveats in the documentation: https://pandas.pydata.org/pandas-docs/stable/user_guide/indexing.html#returning-a-view-versus-a-copy\n",
      "  ind2.Hear_About =  'radio'\n"
     ]
    }
   ],
   "source": [
    "ind2 = Films.iloc[np.where(Films.Hear_About == '3') ]\n",
    "ind2.Hear_About =  'radio'"
   ]
  },
  {
   "cell_type": "code",
   "execution_count": 56,
   "id": "612bf6c6",
   "metadata": {},
   "outputs": [],
   "source": [
    "Films[Films.Hear_About == '3'] = ind2"
   ]
  },
  {
   "cell_type": "code",
   "execution_count": 57,
   "id": "87054b87",
   "metadata": {},
   "outputs": [
    {
     "name": "stderr",
     "output_type": "stream",
     "text": [
      "C:\\Users\\ifixthat\\AppData\\Local\\Temp\\ipykernel_2724\\4065232447.py:2: SettingWithCopyWarning: \n",
      "A value is trying to be set on a copy of a slice from a DataFrame.\n",
      "Try using .loc[row_indexer,col_indexer] = value instead\n",
      "\n",
      "See the caveats in the documentation: https://pandas.pydata.org/pandas-docs/stable/user_guide/indexing.html#returning-a-view-versus-a-copy\n",
      "  ind2.Hear_About =  'website'\n"
     ]
    }
   ],
   "source": [
    "ind2 = Films.iloc[np.where(Films.Hear_About == '4') ]\n",
    "ind2.Hear_About =  'website'"
   ]
  },
  {
   "cell_type": "code",
   "execution_count": 58,
   "id": "2e4479f0",
   "metadata": {},
   "outputs": [],
   "source": [
    "Films[Films.Hear_About == '4'] = ind2"
   ]
  },
  {
   "cell_type": "code",
   "execution_count": 59,
   "id": "aebffe46",
   "metadata": {},
   "outputs": [
    {
     "name": "stderr",
     "output_type": "stream",
     "text": [
      "C:\\Users\\ifixthat\\AppData\\Local\\Temp\\ipykernel_2724\\3657716638.py:2: SettingWithCopyWarning: \n",
      "A value is trying to be set on a copy of a slice from a DataFrame.\n",
      "Try using .loc[row_indexer,col_indexer] = value instead\n",
      "\n",
      "See the caveats in the documentation: https://pandas.pydata.org/pandas-docs/stable/user_guide/indexing.html#returning-a-view-versus-a-copy\n",
      "  ind2.Hear_About =  'word of mouth'\n"
     ]
    }
   ],
   "source": [
    "ind2 = Films.iloc[np.where(Films.Hear_About == '5') ]\n",
    "ind2.Hear_About =  'word of mouth'"
   ]
  },
  {
   "cell_type": "code",
   "execution_count": 60,
   "id": "9248df28",
   "metadata": {},
   "outputs": [],
   "source": [
    "Films[Films.Hear_About == '5'] = ind2"
   ]
  },
  {
   "cell_type": "code",
   "execution_count": null,
   "id": "1ad8c968",
   "metadata": {},
   "outputs": [],
   "source": []
  },
  {
   "cell_type": "markdown",
   "id": "96be98be",
   "metadata": {},
   "source": [
    "##  What is the overall level of customer satisfaction?"
   ]
  },
  {
   "cell_type": "code",
   "execution_count": 61,
   "id": "1e9e36ce",
   "metadata": {},
   "outputs": [],
   "source": [
    "Films ['Overall_Experience'] = np.where(Films.Overall == 1.0 , 'Excellent' , Films.Overall)"
   ]
  },
  {
   "cell_type": "code",
   "execution_count": 62,
   "id": "46aebc30",
   "metadata": {},
   "outputs": [],
   "source": [
    "Films ['Overall_Experience'] = np.where(Films.Overall == 2.0 , 'Good' , Films.Overall_Experience)"
   ]
  },
  {
   "cell_type": "code",
   "execution_count": 63,
   "id": "80949f9b",
   "metadata": {},
   "outputs": [],
   "source": [
    "Films ['Overall_Experience'] = np.where(Films.Overall == 3.0 , 'Average' , Films.Overall_Experience)"
   ]
  },
  {
   "cell_type": "code",
   "execution_count": 64,
   "id": "2836a1eb",
   "metadata": {},
   "outputs": [],
   "source": [
    "Films ['Overall_Experience'] = np.where(Films.Overall == 4.0 , 'Poor' , Films.Overall_Experience)"
   ]
  },
  {
   "cell_type": "code",
   "execution_count": 65,
   "id": "6bdaa9a4",
   "metadata": {},
   "outputs": [],
   "source": [
    "Films ['Overall_Experience'] = np.where(Films.Overall == 5.0 , 'Very Poor' , Films.Overall_Experience)"
   ]
  },
  {
   "cell_type": "code",
   "execution_count": 66,
   "id": "13da7b34",
   "metadata": {},
   "outputs": [
    {
     "name": "stderr",
     "output_type": "stream",
     "text": [
      "C:\\Users\\ifixthat\\AppData\\Local\\Temp\\ipykernel_2724\\2928934289.py:1: FutureWarning: Unlike other reduction functions (e.g. `skew`, `kurtosis`), the default behavior of `mode` typically preserves the axis it acts along. In SciPy 1.11.0, this behavior will change: the default value of `keepdims` will become False, the `axis` over which the statistic is taken will be eliminated, and the value None will no longer be accepted. Set `keepdims` to True or False to avoid this warning.\n",
      "  stats.mode(Films.Overall_Experience)\n",
      "C:\\Users\\ifixthat\\AppData\\Local\\Temp\\ipykernel_2724\\2928934289.py:1: DeprecationWarning: Support for non-numeric arrays has been deprecated as of SciPy 1.9.0 and will be removed in 1.11.0. `pandas.DataFrame.mode` can be used instead, see https://pandas.pydata.org/docs/reference/api/pandas.DataFrame.mode.html.\n",
      "  stats.mode(Films.Overall_Experience)\n"
     ]
    },
    {
     "data": {
      "text/plain": [
       "ModeResult(mode=array(['Good'], dtype=object), count=array([148]))"
      ]
     },
     "execution_count": 66,
     "metadata": {},
     "output_type": "execute_result"
    }
   ],
   "source": [
    "stats.mode(Films.Overall_Experience)"
   ]
  },
  {
   "cell_type": "code",
   "execution_count": 67,
   "id": "141e8bf0",
   "metadata": {},
   "outputs": [
    {
     "data": {
      "image/png": "[encoded data removed]",
      "text/plain": [
       "<Figure size 640x480 with 1 Axes>"
      ]
     },
     "metadata": {},
     "output_type": "display_data"
    }
   ],
   "source": [
    "plt.hist(Films.Overall_Experience )\n",
    "plt.show()"
   ]
  },
  {
   "cell_type": "markdown",
   "id": "4d2b4ad2",
   "metadata": {},
   "source": [
    "## What factors are linked to satisfaction?"
   ]
  },
  {
   "cell_type": "code",
   "execution_count": 68,
   "id": "b9ca6a1d",
   "metadata": {},
   "outputs": [
    {
     "name": "stdout",
     "output_type": "stream",
     "text": [
      " \n",
      "Checking for Sinage:\n",
      "#H0: s_chisquare = 0/nHa: s_chisquare<>0\n",
      "Rejected\n",
      " \n",
      "Checking for Parking:\n",
      "#H0: s_chisquare = 0/nHa: s_chisquare<>0\n",
      "Rejected\n",
      " \n",
      "Checking for Clean:\n",
      "#H0: s_chisquare = 0/nHa: s_chisquare<>0\n",
      "Rejected\n",
      " \n",
      "Checking for Age:\n",
      "#H0: s_chisquare = 0/nHa: s_chisquare<>0\n",
      "Accepted\n",
      " \n",
      "Checking for Income:\n",
      "#H0: s_chisquare = 0/nHa: s_chisquare<>0\n",
      "Accepted\n"
     ]
    }
   ],
   "source": [
    "related = []\n",
    "for i in[\"Sinage\",\"Parking\",\"Clean\",\"Age\",\"Income\"]:\n",
    "    k=i\n",
    "    \n",
    "    print(\" \")\n",
    "    print(f\"Checking for {k}:\")\n",
    "    print(\"#H0: s_chisquare = 0/nHa: s_chisquare<>0\")\n",
    "    j = pd.crosstab(Films[i] , Films['Overall'])\n",
    "    pvalue = stats.chi2_contingency(j)[1]\n",
    "    if pvalue<0.05:\n",
    "        print(\"Rejected\")\n",
    "        related.append(k)\n",
    "    else:\n",
    "        print(\"Accepted\")\n"
   ]
  },
  {
   "cell_type": "markdown",
   "id": "faf1b2c5",
   "metadata": {},
   "source": [
    "## What is the demographic profile of Film on the Rocks patrons?"
   ]
  },
  {
   "cell_type": "code",
   "execution_count": 69,
   "id": "d7ddb986",
   "metadata": {},
   "outputs": [
    {
     "data": {
      "text/html": [
       "<div>\n",
       "<style scoped>\n",
       "    .dataframe tbody tr th:only-of-type {\n",
       "        vertical-align: middle;\n",
       "    }\n",
       "\n",
       "    .dataframe tbody tr th {\n",
       "        vertical-align: top;\n",
       "    }\n",
       "\n",
       "    .dataframe thead th {\n",
       "        text-align: right;\n",
       "    }\n",
       "</style>\n",
       "<table border=\"1\" class=\"dataframe\">\n",
       "  <thead>\n",
       "    <tr style=\"text-align: right;\">\n",
       "      <th></th>\n",
       "      <th>Gender</th>\n",
       "      <th>Marital_Status</th>\n",
       "      <th>Age</th>\n",
       "      <th>Income</th>\n",
       "    </tr>\n",
       "  </thead>\n",
       "  <tbody>\n",
       "    <tr>\n",
       "      <th>0</th>\n",
       "      <td>Female</td>\n",
       "      <td>Married</td>\n",
       "      <td>31-60</td>\n",
       "      <td>Less than $50,000</td>\n",
       "    </tr>\n",
       "    <tr>\n",
       "      <th>1</th>\n",
       "      <td>Female</td>\n",
       "      <td>Single</td>\n",
       "      <td>13-30</td>\n",
       "      <td>Less than $50,000</td>\n",
       "    </tr>\n",
       "    <tr>\n",
       "      <th>2</th>\n",
       "      <td>Male</td>\n",
       "      <td>Married</td>\n",
       "      <td>60+</td>\n",
       "      <td>Less than $50,000</td>\n",
       "    </tr>\n",
       "    <tr>\n",
       "      <th>3</th>\n",
       "      <td>Female</td>\n",
       "      <td>Married</td>\n",
       "      <td>60+</td>\n",
       "      <td>Less than $50,000</td>\n",
       "    </tr>\n",
       "    <tr>\n",
       "      <th>4</th>\n",
       "      <td>Female</td>\n",
       "      <td>Married</td>\n",
       "      <td>31-60</td>\n",
       "      <td>$100,000+</td>\n",
       "    </tr>\n",
       "    <tr>\n",
       "      <th>...</th>\n",
       "      <td>...</td>\n",
       "      <td>...</td>\n",
       "      <td>...</td>\n",
       "      <td>...</td>\n",
       "    </tr>\n",
       "    <tr>\n",
       "      <th>325</th>\n",
       "      <td>Female</td>\n",
       "      <td>Single</td>\n",
       "      <td>13-30</td>\n",
       "      <td>Less than $50,000</td>\n",
       "    </tr>\n",
       "    <tr>\n",
       "      <th>326</th>\n",
       "      <td>Male</td>\n",
       "      <td>Married</td>\n",
       "      <td>31-60</td>\n",
       "      <td>$100,000+</td>\n",
       "    </tr>\n",
       "    <tr>\n",
       "      <th>327</th>\n",
       "      <td>Female</td>\n",
       "      <td>Married</td>\n",
       "      <td>13-30</td>\n",
       "      <td>$50 - $100,000</td>\n",
       "    </tr>\n",
       "    <tr>\n",
       "      <th>328</th>\n",
       "      <td>Male</td>\n",
       "      <td>Married</td>\n",
       "      <td>13-30</td>\n",
       "      <td>Less than $50,000</td>\n",
       "    </tr>\n",
       "    <tr>\n",
       "      <th>329</th>\n",
       "      <td>Female</td>\n",
       "      <td>Single</td>\n",
       "      <td>13-30</td>\n",
       "      <td>Less than $50,000</td>\n",
       "    </tr>\n",
       "  </tbody>\n",
       "</table>\n",
       "<p>301 rows × 4 columns</p>\n",
       "</div>"
      ],
      "text/plain": [
       "     Gender Marital_Status    Age             Income\n",
       "0    Female        Married  31-60  Less than $50,000\n",
       "1    Female         Single  13-30  Less than $50,000\n",
       "2      Male        Married    60+  Less than $50,000\n",
       "3    Female        Married    60+  Less than $50,000\n",
       "4    Female        Married  31-60          $100,000+\n",
       "..      ...            ...    ...                ...\n",
       "325  Female         Single  13-30  Less than $50,000\n",
       "326    Male        Married  31-60          $100,000+\n",
       "327  Female        Married  13-30     $50 - $100,000\n",
       "328    Male        Married  13-30  Less than $50,000\n",
       "329  Female         Single  13-30  Less than $50,000\n",
       "\n",
       "[301 rows x 4 columns]"
      ]
     },
     "execution_count": 69,
     "metadata": {},
     "output_type": "execute_result"
    }
   ],
   "source": [
    "Demo_profile = Films.loc[ : : , ['Gender','Marital_Status','Age','Income']]\n",
    "Demo_profile"
   ]
  },
  {
   "cell_type": "code",
   "execution_count": 70,
   "id": "4d46e51b",
   "metadata": {},
   "outputs": [
    {
     "data": {
      "text/html": [
       "<div>\n",
       "<style scoped>\n",
       "    .dataframe tbody tr th:only-of-type {\n",
       "        vertical-align: middle;\n",
       "    }\n",
       "\n",
       "    .dataframe tbody tr th {\n",
       "        vertical-align: top;\n",
       "    }\n",
       "\n",
       "    .dataframe thead th {\n",
       "        text-align: right;\n",
       "    }\n",
       "</style>\n",
       "<table border=\"1\" class=\"dataframe\">\n",
       "  <thead>\n",
       "    <tr style=\"text-align: right;\">\n",
       "      <th></th>\n",
       "      <th>Gender</th>\n",
       "      <th>Marital_Status</th>\n",
       "      <th>Age</th>\n",
       "      <th>Income</th>\n",
       "    </tr>\n",
       "  </thead>\n",
       "  <tbody>\n",
       "    <tr>\n",
       "      <th>count</th>\n",
       "      <td>301</td>\n",
       "      <td>301</td>\n",
       "      <td>301</td>\n",
       "      <td>301</td>\n",
       "    </tr>\n",
       "    <tr>\n",
       "      <th>unique</th>\n",
       "      <td>2</td>\n",
       "      <td>3</td>\n",
       "      <td>4</td>\n",
       "      <td>3</td>\n",
       "    </tr>\n",
       "    <tr>\n",
       "      <th>top</th>\n",
       "      <td>Female</td>\n",
       "      <td>Single</td>\n",
       "      <td>13-30</td>\n",
       "      <td>Less than $50,000</td>\n",
       "    </tr>\n",
       "    <tr>\n",
       "      <th>freq</th>\n",
       "      <td>195</td>\n",
       "      <td>208</td>\n",
       "      <td>164</td>\n",
       "      <td>135</td>\n",
       "    </tr>\n",
       "  </tbody>\n",
       "</table>\n",
       "</div>"
      ],
      "text/plain": [
       "        Gender Marital_Status    Age             Income\n",
       "count      301            301    301                301\n",
       "unique       2              3      4                  3\n",
       "top     Female         Single  13-30  Less than $50,000\n",
       "freq       195            208    164                135"
      ]
     },
     "execution_count": 70,
     "metadata": {},
     "output_type": "execute_result"
    }
   ],
   "source": [
    "Demo_profile.describe()"
   ]
  },
  {
   "cell_type": "markdown",
   "id": "ec04a621",
   "metadata": {},
   "source": [
    "## In what media outlet(s) should the film series be advertised?"
   ]
  },
  {
   "cell_type": "code",
   "execution_count": 71,
   "id": "26a9b416",
   "metadata": {},
   "outputs": [
    {
     "name": "stderr",
     "output_type": "stream",
     "text": [
      "C:\\Users\\ifixthat\\AppData\\Local\\Temp\\ipykernel_2724\\1767759159.py:1: FutureWarning: Unlike other reduction functions (e.g. `skew`, `kurtosis`), the default behavior of `mode` typically preserves the axis it acts along. In SciPy 1.11.0, this behavior will change: the default value of `keepdims` will become False, the `axis` over which the statistic is taken will be eliminated, and the value None will no longer be accepted. Set `keepdims` to True or False to avoid this warning.\n",
      "  stats.mode(Films.Hear_About)\n",
      "C:\\Users\\ifixthat\\AppData\\Local\\Temp\\ipykernel_2724\\1767759159.py:1: DeprecationWarning: Support for non-numeric arrays has been deprecated as of SciPy 1.9.0 and will be removed in 1.11.0. `pandas.DataFrame.mode` can be used instead, see https://pandas.pydata.org/docs/reference/api/pandas.DataFrame.mode.html.\n",
      "  stats.mode(Films.Hear_About)\n"
     ]
    },
    {
     "data": {
      "text/plain": [
       "ModeResult(mode=array(['word of mouth'], dtype=object), count=array([212]))"
      ]
     },
     "execution_count": 71,
     "metadata": {},
     "output_type": "execute_result"
    }
   ],
   "source": [
    "stats.mode(Films.Hear_About)"
   ]
  },
  {
   "cell_type": "code",
   "execution_count": 72,
   "id": "aa2ad5af",
   "metadata": {},
   "outputs": [
    {
     "data": {
      "image/png": "[encoded data removed]",
      "text/plain": [
       "<Figure size 640x480 with 1 Axes>"
      ]
     },
     "metadata": {},
     "output_type": "display_data"
    }
   ],
   "source": [
    "plt.hist(Films.Hear_About , orientation = 'vertical')\n",
    "plt.xticks(rotation = 45)\n",
    "plt.show()"
   ]
  },
  {
   "cell_type": "code",
   "execution_count": null,
   "id": "13d051e7",
   "metadata": {},
   "outputs": [],
   "source": []
  }
 ],
 "metadata": {
  "kernelspec": {
   "display_name": "Python 3 (ipykernel)",
   "language": "python",
   "name": "python3"
  },
  "language_info": {
   "codemirror_mode": {
    "name": "ipython",
    "version": 3
   },
   "file_extension": ".py",
   "mimetype": "text/x-python",
   "name": "python",
   "nbconvert_exporter": "python",
   "pygments_lexer": "ipython3",
   "version": "3.10.9"
  }
 },
 "nbformat": 4,
 "nbformat_minor": 5
}
